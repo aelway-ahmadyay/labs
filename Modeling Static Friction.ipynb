{
 "cells": [
  {
   "cell_type": "code",
   "execution_count": 2,
   "metadata": {
    "collapsed": true
   },
   "outputs": [],
   "source": [
    "%matplotlib inline"
   ]
  },
  {
   "cell_type": "markdown",
   "metadata": {},
   "source": [
    "# Modeling Static Friction"
   ]
  },
  {
   "cell_type": "markdown",
   "metadata": {},
   "source": [
    "### Introduction:"
   ]
  },
  {
   "cell_type": "markdown",
   "metadata": {},
   "source": [
    "From everyday experience, we know that it takes a certain amount of force to overcome friction and get an object sliding. The goal of this investigation is to model the dependence of this maximum static frictional force on the mass of the object in question."
   ]
  },
  {
   "cell_type": "markdown",
   "metadata": {},
   "source": [
    "### Procedure:"
   ]
  },
  {
   "cell_type": "markdown",
   "metadata": {},
   "source": [
    "We attached a spring scale to the side of a hollow box on a level surface. Adding additional masses, we measured the amount of force it took to get the box to begin to slide. we did he  same thing again but on an incline of 14 degrees.  "
   ]
  },
  {
   "cell_type": "markdown",
   "metadata": {},
   "source": [
    "<figure>\n",
    "    <img src=\"img/Friction Apparatus.png\" width=400px/>\n",
    "    <figcaption style=\"text-align:center; font-size: 12px\">Fig. 1 - Sketch of the apparatus</figcaption>\n",
    "</figure>"
   ]
  },
  {
   "cell_type": "markdown",
   "metadata": {},
   "source": [
    "<figure>\n",
    "    <img src=\"img/Apparatus Photo.jpg\" width=400px/>\n",
    "    <figcaption style=\"text-align:center; font-size: 12px;\">Fig. 2 - Photo of the apparatus</figcaption>\n",
    "</figure>"
   ]
  },
  {
   "cell_type": "markdown",
   "metadata": {
    "collapsed": true
   },
   "source": [
    "### Data and Analysis:"
   ]
  },
  {
   "cell_type": "markdown",
   "metadata": {},
   "source": [
    "| $m_{added}$   | $f_{flat}$     | $f_{incline}$ |\n",
    "|-----|-------|\n",
    "| 0 | 0.6   | 0.76 |\n",
    "|100|1.1|1.39|\n",
    "|200|1.8|1.93|\n",
    "|300|2.3|2.28|\n",
    "|400|2.6|2.75|\n",
    "|500|3.1|3.11|"
   ]
  },
  {
   "cell_type": "code",
   "execution_count": 4,
   "metadata": {
    "collapsed": false
   },
   "outputs": [
    {
     "name": "stdout",
     "output_type": "stream",
     "text": [
      "0.00499999999783 0.666666666666\n",
      "0.00462285714646 0.880952380135\n"
     ]
    },
    {
     "data": {
      "image/png": "[encoded data removed]",
      "text/plain": [
       "<matplotlib.figure.Figure at 0x783bc50>"
      ]
     },
     "metadata": {},
     "output_type": "display_data"
    }
   ],
   "source": [
    "import matplotlib.pyplot as plt\n",
    "import numpy as np\n",
    "from scipy.optimize import curve_fit\n",
    "\n",
    "m = np.array([0,100,200,300,400,500,])\n",
    "f = np.array([0.6,1.1,1.8,2.3,2.6,3.1])\n",
    "i = np.array([0.76,1.39,1.93,2.28,2.75,3.11])\n",
    "\n",
    "mm = np.linspace(0, 600, 800)\n",
    "\n",
    "def linear(m, a, b):\n",
    "    return a*m + b\n",
    "\n",
    "a, b = curve_fit(linear, m, f)[0]\n",
    "c, d = curve_fit(linear, m, i)[0]\n",
    "\n",
    "force = linear(mm, a, b)\n",
    "incline = linear(mm, c, d)\n",
    "print(a, b)\n",
    "print(c, d)\n",
    "\n",
    "#plt.xlim(0,800)\n",
    "plt.ylim(0,5)\n",
    "plt.title(\"Modeling Static Friction\")\n",
    "plt.xlabel(\"Mass Added (g)\")\n",
    "plt.ylabel(\"Max Frictional Force\")\n",
    "plt.plot(mm, linear(mm, a, b), 'c--')\n",
    "plt.plot(mm, linear(mm, c, d), 'r--')\n",
    "plt.plot(m, f, 'b.')\n",
    "plt.plot(m, i, 'g.')\n",
    "plt.show()"
   ]
  },
  {
   "cell_type": "markdown",
   "metadata": {
    "collapsed": true
   },
   "source": [
    "## Conclusion\n",
    "Our expiriment was to test if static friction fits a linear model. We first started by getting a box and testing with different masses how much force was needed to get it to move. We then use the force from the spring scale to measure the frictional force. To do this we put the force and mass into the formula $f_s = F_{sp} - sin\\theta$, and theta being 14$^{\\circ}$. We then did the same expiriment but on an incline at 14$^{\\circ}$. We started by with an empty box and finding what amount of force was needed to get it to move or its static friction. The equation for static friction on a flat surface is $y = 0.005x + 0.667$ in black. Also, the equation of the static friction on an incline is $y = 0.005x + 0.881$ in red. The data tells us that the box on an incline will need more force to move it forward or up the incline than the force needed to pull the box on a flat surface with no incline. We did this expiriment to test if static friction followed a linear model or a quadratic model, and after the expiriment,we learned that we need more force to move a mass up a incline than on leveled ground."
   ]
  },
  {
   "cell_type": "code",
   "execution_count": null,
   "metadata": {
    "collapsed": true
   },
   "outputs": [],
   "source": []
  }
 ],
 "metadata": {
  "anaconda-cloud": {},
  "kernelspec": {
   "display_name": "Python 3",
   "language": "python",
   "name": "python3"
  },
  "language_info": {
   "codemirror_mode": {
    "name": "ipython",
    "version": 3
   },
   "file_extension": ".py",
   "mimetype": "text/x-python",
   "name": "python",
   "nbconvert_exporter": "python",
   "pygments_lexer": "ipython3",
   "version": "3.4.3"
  }
 },
 "nbformat": 4,
 "nbformat_minor": 1
}
